{
 "cells": [
  {
   "cell_type": "markdown",
   "metadata": {},
   "source": [
    "## Example - difi on LSST SSP\n",
    "\n",
    "[Assumed Inputs](#Assumed-Inputs)  \n",
    "[Analyzing Observations](#Analyzing-Observations-(Can-I-Find-It%3F))  \n",
    "[Analyzing Linkages](#Analyzing-Linkages-(Did-I-Find-It%3F))"
   ]
  },
  {
   "cell_type": "code",
   "execution_count": 1,
   "metadata": {},
   "outputs": [],
   "source": [
    "import os\n",
    "import sys\n",
    "import numpy as np\n",
    "import pandas as pd\n",
    "\n",
    "sys.path.append(\"..\")\n",
    "\n",
    "import difi"
   ]
  },
  {
   "cell_type": "code",
   "execution_count": 2,
   "metadata": {},
   "outputs": [],
   "source": [
    "DATA_DIR = \"/data/epyc/projects/lsst_ssp/lsst_dm_ssp/notebooks/linking/\""
   ]
  },
  {
   "cell_type": "code",
   "execution_count": 3,
   "metadata": {},
   "outputs": [
    {
     "name": "stdout",
     "output_type": "stream",
     "text": [
      "LSST_HelioLinC.ipynb\t\t\tUntitled.ipynb\tlsstssp.py\n",
      "LSST_HelioLinC_JPL_dataset-Copy1.ipynb\tVC_3days.obs\tobs_per_cluster.csv\n",
      "LSST_HelioLinC_JPL_dataset.ipynb\t__pycache__\n",
      "LSST_SSP_DIFI_VC_3days.txt\t\tlsstssp-bu.py\n"
     ]
    }
   ],
   "source": [
    "! ls {DATA_DIR}"
   ]
  },
  {
   "cell_type": "markdown",
   "metadata": {},
   "source": [
    "### Assumed Inputs"
   ]
  },
  {
   "cell_type": "markdown",
   "metadata": {},
   "source": [
    "Lets take a look at a sample observations file used by the LSST software. "
   ]
  },
  {
   "cell_type": "code",
   "execution_count": 4,
   "metadata": {},
   "outputs": [],
   "source": [
    "observations = pd.read_csv(os.path.join(DATA_DIR, \"VC_3days.obs\"), \n",
    "                           sep=\" \", \n",
    "                           dtype={\n",
    "                               \"obsId\" : str,\n",
    "                               \"obj\" : str,\n",
    "                               \"objId\" : str,\n",
    "                           },\n",
    "                           index_col=False)"
   ]
  },
  {
   "cell_type": "code",
   "execution_count": 5,
   "metadata": {},
   "outputs": [
    {
     "data": {
      "text/html": [
       "<div>\n",
       "<style scoped>\n",
       "    .dataframe tbody tr th:only-of-type {\n",
       "        vertical-align: middle;\n",
       "    }\n",
       "\n",
       "    .dataframe tbody tr th {\n",
       "        vertical-align: top;\n",
       "    }\n",
       "\n",
       "    .dataframe thead th {\n",
       "        text-align: right;\n",
       "    }\n",
       "</style>\n",
       "<table border=\"1\" class=\"dataframe\">\n",
       "  <thead>\n",
       "    <tr style=\"text-align: right;\">\n",
       "      <th></th>\n",
       "      <th>obj</th>\n",
       "      <th>time</th>\n",
       "      <th>RA</th>\n",
       "      <th>DEC</th>\n",
       "      <th>x_obs</th>\n",
       "      <th>y_obs</th>\n",
       "      <th>z_obs</th>\n",
       "      <th>night</th>\n",
       "      <th>obsId</th>\n",
       "      <th>objId</th>\n",
       "      <th>r</th>\n",
       "    </tr>\n",
       "  </thead>\n",
       "  <tbody>\n",
       "    <tr>\n",
       "      <th>0</th>\n",
       "      <td>S1009GjOa</td>\n",
       "      <td>52391.002282</td>\n",
       "      <td>171.368899</td>\n",
       "      <td>-12.504937</td>\n",
       "      <td>-0.808597</td>\n",
       "      <td>-0.599239</td>\n",
       "      <td>-0.000026</td>\n",
       "      <td>0</td>\n",
       "      <td>0</td>\n",
       "      <td>72982</td>\n",
       "      <td>1</td>\n",
       "    </tr>\n",
       "    <tr>\n",
       "      <th>1</th>\n",
       "      <td>S1001QUsa</td>\n",
       "      <td>52391.002282</td>\n",
       "      <td>169.318742</td>\n",
       "      <td>-13.021633</td>\n",
       "      <td>-0.808597</td>\n",
       "      <td>-0.599239</td>\n",
       "      <td>-0.000026</td>\n",
       "      <td>0</td>\n",
       "      <td>1</td>\n",
       "      <td>16041</td>\n",
       "      <td>1</td>\n",
       "    </tr>\n",
       "    <tr>\n",
       "      <th>2</th>\n",
       "      <td>S10036B8a</td>\n",
       "      <td>52391.002282</td>\n",
       "      <td>170.375067</td>\n",
       "      <td>-12.218251</td>\n",
       "      <td>-0.808597</td>\n",
       "      <td>-0.599239</td>\n",
       "      <td>-0.000026</td>\n",
       "      <td>0</td>\n",
       "      <td>2</td>\n",
       "      <td>30951</td>\n",
       "      <td>1</td>\n",
       "    </tr>\n",
       "    <tr>\n",
       "      <th>3</th>\n",
       "      <td>S100aAWQa</td>\n",
       "      <td>52391.002282</td>\n",
       "      <td>171.392970</td>\n",
       "      <td>-14.233830</td>\n",
       "      <td>-0.808597</td>\n",
       "      <td>-0.599239</td>\n",
       "      <td>-0.000026</td>\n",
       "      <td>0</td>\n",
       "      <td>3</td>\n",
       "      <td>85187</td>\n",
       "      <td>1</td>\n",
       "    </tr>\n",
       "    <tr>\n",
       "      <th>4</th>\n",
       "      <td>S1001DTsa</td>\n",
       "      <td>52391.002282</td>\n",
       "      <td>171.308411</td>\n",
       "      <td>-14.222651</td>\n",
       "      <td>-0.808597</td>\n",
       "      <td>-0.599239</td>\n",
       "      <td>-0.000026</td>\n",
       "      <td>0</td>\n",
       "      <td>4</td>\n",
       "      <td>14030</td>\n",
       "      <td>1</td>\n",
       "    </tr>\n",
       "    <tr>\n",
       "      <th>...</th>\n",
       "      <td>...</td>\n",
       "      <td>...</td>\n",
       "      <td>...</td>\n",
       "      <td>...</td>\n",
       "      <td>...</td>\n",
       "      <td>...</td>\n",
       "      <td>...</td>\n",
       "      <td>...</td>\n",
       "      <td>...</td>\n",
       "      <td>...</td>\n",
       "      <td>...</td>\n",
       "    </tr>\n",
       "    <tr>\n",
       "      <th>5671056</th>\n",
       "      <td>FD</td>\n",
       "      <td>52393.426183</td>\n",
       "      <td>279.724212</td>\n",
       "      <td>-24.998612</td>\n",
       "      <td>-0.783728</td>\n",
       "      <td>-0.632415</td>\n",
       "      <td>-0.000004</td>\n",
       "      <td>2</td>\n",
       "      <td>5671056</td>\n",
       "      <td>0</td>\n",
       "      <td>1</td>\n",
       "    </tr>\n",
       "    <tr>\n",
       "      <th>5671057</th>\n",
       "      <td>FD</td>\n",
       "      <td>52393.426183</td>\n",
       "      <td>278.798817</td>\n",
       "      <td>-26.866569</td>\n",
       "      <td>-0.783728</td>\n",
       "      <td>-0.632415</td>\n",
       "      <td>-0.000004</td>\n",
       "      <td>2</td>\n",
       "      <td>5671057</td>\n",
       "      <td>0</td>\n",
       "      <td>1</td>\n",
       "    </tr>\n",
       "    <tr>\n",
       "      <th>5671058</th>\n",
       "      <td>FD</td>\n",
       "      <td>52393.426183</td>\n",
       "      <td>281.781401</td>\n",
       "      <td>-26.198391</td>\n",
       "      <td>-0.783728</td>\n",
       "      <td>-0.632415</td>\n",
       "      <td>-0.000004</td>\n",
       "      <td>2</td>\n",
       "      <td>5671058</td>\n",
       "      <td>0</td>\n",
       "      <td>1</td>\n",
       "    </tr>\n",
       "    <tr>\n",
       "      <th>5671059</th>\n",
       "      <td>FD</td>\n",
       "      <td>52393.426183</td>\n",
       "      <td>278.596489</td>\n",
       "      <td>-24.661582</td>\n",
       "      <td>-0.783728</td>\n",
       "      <td>-0.632415</td>\n",
       "      <td>-0.000004</td>\n",
       "      <td>2</td>\n",
       "      <td>5671059</td>\n",
       "      <td>0</td>\n",
       "      <td>1</td>\n",
       "    </tr>\n",
       "    <tr>\n",
       "      <th>5671060</th>\n",
       "      <td>FD</td>\n",
       "      <td>52393.426183</td>\n",
       "      <td>280.879205</td>\n",
       "      <td>-24.681836</td>\n",
       "      <td>-0.783728</td>\n",
       "      <td>-0.632415</td>\n",
       "      <td>-0.000004</td>\n",
       "      <td>2</td>\n",
       "      <td>5671060</td>\n",
       "      <td>0</td>\n",
       "      <td>1</td>\n",
       "    </tr>\n",
       "  </tbody>\n",
       "</table>\n",
       "<p>5671061 rows × 11 columns</p>\n",
       "</div>"
      ],
      "text/plain": [
       "               obj          time          RA        DEC     x_obs     y_obs  \\\n",
       "0        S1009GjOa  52391.002282  171.368899 -12.504937 -0.808597 -0.599239   \n",
       "1        S1001QUsa  52391.002282  169.318742 -13.021633 -0.808597 -0.599239   \n",
       "2        S10036B8a  52391.002282  170.375067 -12.218251 -0.808597 -0.599239   \n",
       "3        S100aAWQa  52391.002282  171.392970 -14.233830 -0.808597 -0.599239   \n",
       "4        S1001DTsa  52391.002282  171.308411 -14.222651 -0.808597 -0.599239   \n",
       "...            ...           ...         ...        ...       ...       ...   \n",
       "5671056         FD  52393.426183  279.724212 -24.998612 -0.783728 -0.632415   \n",
       "5671057         FD  52393.426183  278.798817 -26.866569 -0.783728 -0.632415   \n",
       "5671058         FD  52393.426183  281.781401 -26.198391 -0.783728 -0.632415   \n",
       "5671059         FD  52393.426183  278.596489 -24.661582 -0.783728 -0.632415   \n",
       "5671060         FD  52393.426183  280.879205 -24.681836 -0.783728 -0.632415   \n",
       "\n",
       "            z_obs  night    obsId  objId  r  \n",
       "0       -0.000026      0        0  72982  1  \n",
       "1       -0.000026      0        1  16041  1  \n",
       "2       -0.000026      0        2  30951  1  \n",
       "3       -0.000026      0        3  85187  1  \n",
       "4       -0.000026      0        4  14030  1  \n",
       "...           ...    ...      ...    ... ..  \n",
       "5671056 -0.000004      2  5671056      0  1  \n",
       "5671057 -0.000004      2  5671057      0  1  \n",
       "5671058 -0.000004      2  5671058      0  1  \n",
       "5671059 -0.000004      2  5671059      0  1  \n",
       "5671060 -0.000004      2  5671060      0  1  \n",
       "\n",
       "[5671061 rows x 11 columns]"
      ]
     },
     "execution_count": 5,
     "metadata": {},
     "output_type": "execute_result"
    }
   ],
   "source": [
    "observations"
   ]
  },
  {
   "cell_type": "markdown",
   "metadata": {},
   "source": [
    "Before we continue lets tell `difi` what columns to use. Between the observations and linkageMembers dataframe, `difi` needs to know about just three columns:\n",
    "- linkage_id: the ID assigned to each linkage\n",
    "- obs_id : the observation ID from which linkages are made\n",
    "- truth : the truth for every observation\n",
    "\n",
    "So lets define a dictionary that tells `difi` what columns to use for this information."
   ]
  },
  {
   "cell_type": "code",
   "execution_count": 6,
   "metadata": {},
   "outputs": [],
   "source": [
    "columnMapping = {\n",
    "    # difi column name : data column name\n",
    "    \"linkage_id\" : \"clusterId\",\n",
    "    \"obs_id\" : \"obsId\",\n",
    "    \"truth\" : \"obj\",\n",
    "    \"epoch_mjd\" : \"time\",\n",
    "}"
   ]
  },
  {
   "cell_type": "code",
   "execution_count": 7,
   "metadata": {},
   "outputs": [],
   "source": [
    "linkageMembers_temp = pd.read_csv(os.path.join(DATA_DIR, \"LSST_SSP_DIFI_VC_3days.txt\"), \n",
    "                            sep=\" \", \n",
    "                            index_col=False)"
   ]
  },
  {
   "cell_type": "code",
   "execution_count": 8,
   "metadata": {},
   "outputs": [
    {
     "data": {
      "text/html": [
       "<div>\n",
       "<style scoped>\n",
       "    .dataframe tbody tr th:only-of-type {\n",
       "        vertical-align: middle;\n",
       "    }\n",
       "\n",
       "    .dataframe tbody tr th {\n",
       "        vertical-align: top;\n",
       "    }\n",
       "\n",
       "    .dataframe thead th {\n",
       "        text-align: right;\n",
       "    }\n",
       "</style>\n",
       "<table border=\"1\" class=\"dataframe\">\n",
       "  <thead>\n",
       "    <tr style=\"text-align: right;\">\n",
       "      <th></th>\n",
       "      <th>clusterId</th>\n",
       "      <th>obsId</th>\n",
       "      <th>r</th>\n",
       "      <th>drdt</th>\n",
       "    </tr>\n",
       "  </thead>\n",
       "  <tbody>\n",
       "    <tr>\n",
       "      <th>0</th>\n",
       "      <td>-1</td>\n",
       "      <td>[   2370    2529    2561 ... 5668636 5668774 5...</td>\n",
       "      <td>2.0</td>\n",
       "      <td>0</td>\n",
       "    </tr>\n",
       "    <tr>\n",
       "      <th>1</th>\n",
       "      <td>0</td>\n",
       "      <td>[341878 344488 349728 352258 748072 750648]</td>\n",
       "      <td>2.0</td>\n",
       "      <td>0</td>\n",
       "    </tr>\n",
       "    <tr>\n",
       "      <th>2</th>\n",
       "      <td>1</td>\n",
       "      <td>[362637 362707 365191 365250 450378 453063]</td>\n",
       "      <td>2.0</td>\n",
       "      <td>0</td>\n",
       "    </tr>\n",
       "    <tr>\n",
       "      <th>3</th>\n",
       "      <td>2</td>\n",
       "      <td>[362797 365353 450566 450653 453222 453314]</td>\n",
       "      <td>2.0</td>\n",
       "      <td>0</td>\n",
       "    </tr>\n",
       "    <tr>\n",
       "      <th>4</th>\n",
       "      <td>3</td>\n",
       "      <td>[362671 362684 362803 365229 365236 365355 450...</td>\n",
       "      <td>2.0</td>\n",
       "      <td>0</td>\n",
       "    </tr>\n",
       "  </tbody>\n",
       "</table>\n",
       "</div>"
      ],
      "text/plain": [
       "   clusterId                                              obsId    r  drdt\n",
       "0         -1  [   2370    2529    2561 ... 5668636 5668774 5...  2.0     0\n",
       "1          0        [341878 344488 349728 352258 748072 750648]  2.0     0\n",
       "2          1        [362637 362707 365191 365250 450378 453063]  2.0     0\n",
       "3          2        [362797 365353 450566 450653 453222 453314]  2.0     0\n",
       "4          3  [362671 362684 362803 365229 365236 365355 450...  2.0     0"
      ]
     },
     "execution_count": 8,
     "metadata": {},
     "output_type": "execute_result"
    }
   ],
   "source": [
    "linkageMembers_temp.head()"
   ]
  },
  {
   "cell_type": "markdown",
   "metadata": {},
   "source": [
    "Data wrangling into the `difi` format. "
   ]
  },
  {
   "cell_type": "code",
   "execution_count": 9,
   "metadata": {},
   "outputs": [],
   "source": [
    "allClusters = linkageMembers_temp[[\"clusterId\", \"r\", \"drdt\"]]\n",
    "linkageMembers_temp = linkageMembers_temp[[\"clusterId\", \"obsId\"]]"
   ]
  },
  {
   "cell_type": "code",
   "execution_count": 10,
   "metadata": {},
   "outputs": [],
   "source": [
    "# Split each linkage into its different observation IDs\n",
    "linkage_list = linkageMembers_temp[columnMapping[\"obs_id\"]].str.strip(\"[\").str.strip(\"]\").str.split().tolist()\n",
    "\n",
    "# Build initial DataFrame\n",
    "linkageMembers = pd.DataFrame(pd.DataFrame(linkage_list, index=linkageMembers_temp[\"clusterId\"].values).stack(), columns=[columnMapping[\"obs_id\"]])\n",
    "\n",
    "# Reset index \n",
    "linkageMembers.reset_index(1, drop=True, inplace=True)\n",
    "\n",
    "# Make linkage_id its own column\n",
    "linkageMembers[columnMapping[\"linkage_id\"]] = linkageMembers.index\n",
    "\n",
    "# Re-arrange column order \n",
    "linkageMembers = linkageMembers[[columnMapping[\"linkage_id\"], columnMapping[\"obs_id\"]]]\n",
    "\n",
    "# Not all linkages have the same number of detections, empty detections needs to be dropped\n",
    "linkageMembers[columnMapping[\"obs_id\"]].replace(\"\", np.nan, inplace=True)\n",
    "linkageMembers.dropna(inplace=True)\n",
    "linkageMembers.reset_index(drop=True, inplace=True)\n"
   ]
  },
  {
   "cell_type": "code",
   "execution_count": 11,
   "metadata": {},
   "outputs": [
    {
     "data": {
      "text/html": [
       "<div>\n",
       "<style scoped>\n",
       "    .dataframe tbody tr th:only-of-type {\n",
       "        vertical-align: middle;\n",
       "    }\n",
       "\n",
       "    .dataframe tbody tr th {\n",
       "        vertical-align: top;\n",
       "    }\n",
       "\n",
       "    .dataframe thead th {\n",
       "        text-align: right;\n",
       "    }\n",
       "</style>\n",
       "<table border=\"1\" class=\"dataframe\">\n",
       "  <thead>\n",
       "    <tr style=\"text-align: right;\">\n",
       "      <th></th>\n",
       "      <th>clusterId</th>\n",
       "      <th>obsId</th>\n",
       "    </tr>\n",
       "  </thead>\n",
       "  <tbody>\n",
       "    <tr>\n",
       "      <th>0</th>\n",
       "      <td>-1</td>\n",
       "      <td>2370</td>\n",
       "    </tr>\n",
       "    <tr>\n",
       "      <th>1</th>\n",
       "      <td>-1</td>\n",
       "      <td>2529</td>\n",
       "    </tr>\n",
       "    <tr>\n",
       "      <th>2</th>\n",
       "      <td>-1</td>\n",
       "      <td>2561</td>\n",
       "    </tr>\n",
       "    <tr>\n",
       "      <th>3</th>\n",
       "      <td>-1</td>\n",
       "      <td>...</td>\n",
       "    </tr>\n",
       "    <tr>\n",
       "      <th>4</th>\n",
       "      <td>-1</td>\n",
       "      <td>5668636</td>\n",
       "    </tr>\n",
       "    <tr>\n",
       "      <th>5</th>\n",
       "      <td>-1</td>\n",
       "      <td>5668774</td>\n",
       "    </tr>\n",
       "    <tr>\n",
       "      <th>6</th>\n",
       "      <td>-1</td>\n",
       "      <td>5669366</td>\n",
       "    </tr>\n",
       "    <tr>\n",
       "      <th>7</th>\n",
       "      <td>0</td>\n",
       "      <td>341878</td>\n",
       "    </tr>\n",
       "    <tr>\n",
       "      <th>8</th>\n",
       "      <td>0</td>\n",
       "      <td>344488</td>\n",
       "    </tr>\n",
       "    <tr>\n",
       "      <th>9</th>\n",
       "      <td>0</td>\n",
       "      <td>349728</td>\n",
       "    </tr>\n",
       "  </tbody>\n",
       "</table>\n",
       "</div>"
      ],
      "text/plain": [
       "   clusterId    obsId\n",
       "0         -1     2370\n",
       "1         -1     2529\n",
       "2         -1     2561\n",
       "3         -1      ...\n",
       "4         -1  5668636\n",
       "5         -1  5668774\n",
       "6         -1  5669366\n",
       "7          0   341878\n",
       "8          0   344488\n",
       "9          0   349728"
      ]
     },
     "execution_count": 11,
     "metadata": {},
     "output_type": "execute_result"
    }
   ],
   "source": [
    "linkageMembers.head(10)"
   ]
  },
  {
   "cell_type": "code",
   "execution_count": 12,
   "metadata": {},
   "outputs": [],
   "source": [
    "keep = linkageMembers[\"clusterId\"].unique()[linkageMembers[\"clusterId\"].value_counts().values >= 4]"
   ]
  },
  {
   "cell_type": "code",
   "execution_count": 13,
   "metadata": {},
   "outputs": [],
   "source": [
    "linkageMembers = linkageMembers[linkageMembers[\"clusterId\"].isin(keep)]"
   ]
  },
  {
   "cell_type": "markdown",
   "metadata": {},
   "source": [
    "### Analyzing Observations (Can I Find It?) "
   ]
  },
  {
   "cell_type": "markdown",
   "metadata": {},
   "source": [
    "Determing how a linking algorithm performs involves knowing what it should be able to link. `difi` comes with a function that analyzes findablility with a simple assumption: any truths with at least x many observations should be findable. We leave it to the user to determine more complicated findability metrics for their specific science cases. \n",
    "\n",
    "Lets see what should be findable with MOPS with this simple metric."
   ]
  },
  {
   "cell_type": "code",
   "execution_count": 14,
   "metadata": {},
   "outputs": [
    {
     "name": "stdout",
     "output_type": "stream",
     "text": [
      "Analyzing observations...\n",
      "Known truth observations: 480144\n",
      "Unknown truth observations: 0\n",
      "False positive observations: 5190917\n",
      "Percent known truth observations (%): 8.467\n",
      "Percent unknown truth observations (%): 0.000\n",
      "Percent false positive observations (%): 91.533\n",
      "Unique truths: 146534\n",
      "Unique known truths : 146532\n",
      "Unique known truths with at least 4 detections: 54581\n",
      "\n",
      "Total time in seconds: 5.259442567825317\n",
      "\n"
     ]
    }
   ],
   "source": [
    "allTruths, summary = difi.analyzeObservations(observations,\n",
    "                                              minObs=4,\n",
    "                                              unknownIDs=[],\n",
    "                                              falsePositiveIDs=[\"NS\", \"FD\"],\n",
    "                                              verbose=True,\n",
    "                                              columnMapping=columnMapping)"
   ]
  },
  {
   "cell_type": "markdown",
   "metadata": {},
   "source": [
    "The `analyzeObservations` function returns two dataframes. Let's take a look both of them in a little detail. \n",
    "\n",
    "The allTruths dataframe lists each unique truth as a row with columns that account for the number of observations that each unique truth has and also if it is findable (if it has more than `minObs` observations). "
   ]
  },
  {
   "cell_type": "code",
   "execution_count": 15,
   "metadata": {},
   "outputs": [
    {
     "data": {
      "text/html": [
       "<div>\n",
       "<style scoped>\n",
       "    .dataframe tbody tr th:only-of-type {\n",
       "        vertical-align: middle;\n",
       "    }\n",
       "\n",
       "    .dataframe tbody tr th {\n",
       "        vertical-align: top;\n",
       "    }\n",
       "\n",
       "    .dataframe thead th {\n",
       "        text-align: right;\n",
       "    }\n",
       "</style>\n",
       "<table border=\"1\" class=\"dataframe\">\n",
       "  <thead>\n",
       "    <tr style=\"text-align: right;\">\n",
       "      <th></th>\n",
       "      <th>obj</th>\n",
       "      <th>num_obs</th>\n",
       "      <th>findable</th>\n",
       "    </tr>\n",
       "  </thead>\n",
       "  <tbody>\n",
       "    <tr>\n",
       "      <th>0</th>\n",
       "      <td>FD</td>\n",
       "      <td>4165797</td>\n",
       "      <td>0</td>\n",
       "    </tr>\n",
       "    <tr>\n",
       "      <th>1</th>\n",
       "      <td>NS</td>\n",
       "      <td>1025120</td>\n",
       "      <td>0</td>\n",
       "    </tr>\n",
       "    <tr>\n",
       "      <th>2</th>\n",
       "      <td>S100ccNAa</td>\n",
       "      <td>18</td>\n",
       "      <td>1</td>\n",
       "    </tr>\n",
       "    <tr>\n",
       "      <th>3</th>\n",
       "      <td>S100377Va</td>\n",
       "      <td>17</td>\n",
       "      <td>1</td>\n",
       "    </tr>\n",
       "    <tr>\n",
       "      <th>4</th>\n",
       "      <td>S100sKX4a</td>\n",
       "      <td>17</td>\n",
       "      <td>1</td>\n",
       "    </tr>\n",
       "    <tr>\n",
       "      <th>...</th>\n",
       "      <td>...</td>\n",
       "      <td>...</td>\n",
       "      <td>...</td>\n",
       "    </tr>\n",
       "    <tr>\n",
       "      <th>146529</th>\n",
       "      <td>S1002cwza</td>\n",
       "      <td>1</td>\n",
       "      <td>0</td>\n",
       "    </tr>\n",
       "    <tr>\n",
       "      <th>146530</th>\n",
       "      <td>S100tyCIa</td>\n",
       "      <td>1</td>\n",
       "      <td>0</td>\n",
       "    </tr>\n",
       "    <tr>\n",
       "      <th>146531</th>\n",
       "      <td>S100a88ea</td>\n",
       "      <td>1</td>\n",
       "      <td>0</td>\n",
       "    </tr>\n",
       "    <tr>\n",
       "      <th>146532</th>\n",
       "      <td>S100FsVHa</td>\n",
       "      <td>1</td>\n",
       "      <td>0</td>\n",
       "    </tr>\n",
       "    <tr>\n",
       "      <th>146533</th>\n",
       "      <td>S1009qjua</td>\n",
       "      <td>1</td>\n",
       "      <td>0</td>\n",
       "    </tr>\n",
       "  </tbody>\n",
       "</table>\n",
       "<p>146534 rows × 3 columns</p>\n",
       "</div>"
      ],
      "text/plain": [
       "              obj  num_obs  findable\n",
       "0              FD  4165797         0\n",
       "1              NS  1025120         0\n",
       "2       S100ccNAa       18         1\n",
       "3       S100377Va       17         1\n",
       "4       S100sKX4a       17         1\n",
       "...           ...      ...       ...\n",
       "146529  S1002cwza        1         0\n",
       "146530  S100tyCIa        1         0\n",
       "146531  S100a88ea        1         0\n",
       "146532  S100FsVHa        1         0\n",
       "146533  S1009qjua        1         0\n",
       "\n",
       "[146534 rows x 3 columns]"
      ]
     },
     "execution_count": 15,
     "metadata": {},
     "output_type": "execute_result"
    }
   ],
   "source": [
    "allTruths"
   ]
  },
  {
   "cell_type": "markdown",
   "metadata": {},
   "source": [
    "One can trivially select the objects that should or should not be findable thanks to `pandas`."
   ]
  },
  {
   "cell_type": "code",
   "execution_count": null,
   "metadata": {},
   "outputs": [],
   "source": [
    "findable_known_truths = allTruths[allTruths[\"findable\"] == 1][columnMapping[\"truth\"]].unique()\n",
    "not_findable_known_truths = allTruths[(allTruths[\"findable\"] == 0) & (~allTruths[columnMapping[\"truth\"]].isin([\"-1\", \"-2\"]))][columnMapping[\"truth\"]].unique()"
   ]
  },
  {
   "cell_type": "markdown",
   "metadata": {},
   "source": [
    "As stated earlier, the `analyzeObservations` function has a very simple findability criteria. The user can write their own metric and then generate a dataframe in the same style as the one above. Doing so will allow `difi` to calculate summary statistics, however, this is not necessary to proceed with determining if truths were linked.\n",
    "\n",
    "Before we go to seeing how MOPS performed, lets take a look at the summary dataframe. "
   ]
  },
  {
   "cell_type": "code",
   "execution_count": null,
   "metadata": {},
   "outputs": [],
   "source": [
    "summary"
   ]
  },
  {
   "cell_type": "code",
   "execution_count": null,
   "metadata": {},
   "outputs": [],
   "source": [
    "summary.columns"
   ]
  },
  {
   "cell_type": "markdown",
   "metadata": {},
   "source": [
    "The summary dataframe is a very simple single row dataframe with some summary numbers about the given observations. \n",
    "\n",
    "A few things to note: any observations with truths that are either unknownIDs or falsePositiveIDs are ignored when counting the number of truths that should be findable. For example, in the function call a few cells earlier the `falsePositiveIDs` kwarg was set to `[\"-1\", \"-2\"]`."
   ]
  },
  {
   "cell_type": "code",
   "execution_count": null,
   "metadata": {},
   "outputs": [],
   "source": [
    "allTruths[allTruths[\"findable\"] == 0].head()"
   ]
  },
  {
   "cell_type": "markdown",
   "metadata": {},
   "source": [
    "However... MOPS can't link single detections and has a stricter findability metric. We can write our own function to calculate findability to get a more accurate measure of what should be findable by MOPS."
   ]
  },
  {
   "cell_type": "code",
   "execution_count": null,
   "metadata": {},
   "outputs": [],
   "source": [
    "# This is where the user's specific science and domain knowledge comes in to\n",
    "# help determine what is findable and what is not\n",
    "\n",
    "def calcNight(mjd, midnight=0.166):\n",
    "    night = mjd + 0.5 - midnight\n",
    "    return night.astype(int)\n",
    "\n",
    "def calcFindableMOPS(observations, \n",
    "                     trackletMinObs=2, \n",
    "                     trackMinNights=3, \n",
    "                     falsePositiveIDs=[\"NS\", \"FD\"],\n",
    "                     unknownIDs=[],\n",
    "                     columMapping=columnMapping):\n",
    "    # Groupby night, then count number of occurences per night\n",
    "    night_designation_count = observations[~observations[columnMapping[\"truth\"]].isin(falsePositiveIDs + unknownIDs)].groupby([\"nid\"])[columnMapping[\"truth\"]].value_counts()\n",
    "    night_designation_count = pd.DataFrame(night_designation_count)\n",
    "    night_designation_count.rename(columns={columnMapping[\"truth\"]: \"num_obs\"}, inplace=True)\n",
    "    night_designation_count.reset_index(inplace=True)\n",
    "\n",
    "    # Remove nightly detections that would not be linked into a tracklet\n",
    "    night_designation_count = night_designation_count[night_designation_count[\"num_obs\"] >= trackletMinObs]\n",
    "\n",
    "    # Groupby object then count number of nights\n",
    "    try: \n",
    "        designation_night_count = pd.DataFrame(night_designation_count.groupby([columnMapping[\"truth\"]])[\"nid\"].value_counts())\n",
    "    except:\n",
    "        # No objects satisfy the requirements, return empty array\n",
    "        return np.array([])\n",
    "    designation_night_count.rename(columns={\"nid\": \"num_nights\"}, inplace=True)\n",
    "    designation_night_count.reset_index(inplace=True)\n",
    "\n",
    "    # Grab objects that meet the night requirement\n",
    "    tracklet_nights_possible = designation_night_count[columnMapping[\"truth\"]].value_counts()\n",
    "    return tracklet_nights_possible.index[tracklet_nights_possible >= trackMinNights].values\n",
    "\n",
    "observations[\"nid\"] = calcNight(observations[columnMapping[\"epoch_mjd\"]])\n",
    "findable_by_mops = calcFindableMOPS(observations)"
   ]
  },
  {
   "cell_type": "markdown",
   "metadata": {},
   "source": [
    "These are the objects that should actually be findable by MOPS."
   ]
  },
  {
   "cell_type": "code",
   "execution_count": null,
   "metadata": {},
   "outputs": [],
   "source": [
    "len(findable_by_mops)"
   ]
  },
  {
   "cell_type": "markdown",
   "metadata": {},
   "source": [
    "Now lets modify the allTruths dataframe to update findability. "
   ]
  },
  {
   "cell_type": "code",
   "execution_count": null,
   "metadata": {},
   "outputs": [],
   "source": [
    "allTruths[\"findable\"] = np.zeros(len(allTruths), dtype=int)\n",
    "allTruths.loc[allTruths[columnMapping[\"truth\"]].isin(findable_by_mops), \"findable\"] = 1"
   ]
  },
  {
   "cell_type": "markdown",
   "metadata": {},
   "source": [
    "Lets confirm this worked as intended."
   ]
  },
  {
   "cell_type": "code",
   "execution_count": null,
   "metadata": {},
   "outputs": [],
   "source": [
    "assert len(findable_by_mops) == len(allTruths[allTruths[\"findable\"] == 1])\n",
    "assert set(findable_by_mops) == set(allTruths[allTruths[\"findable\"] == 1][columnMapping[\"truth\"]].unique())"
   ]
  },
  {
   "cell_type": "markdown",
   "metadata": {},
   "source": [
    "### Analyzing Linkages (Did I Find It?)"
   ]
  },
  {
   "cell_type": "code",
   "execution_count": 16,
   "metadata": {},
   "outputs": [
    {
     "name": "stdout",
     "output_type": "stream",
     "text": [
      "Analyzing linkages...\n",
      "Known truth pure linkages: 7\n",
      "Known truth partial linkages: 0\n",
      "Unknown truth pure linkages: 0\n",
      "Unknown truth partial linkages: 0\n",
      "False positive pure linkages: 0\n",
      "False positive partial linkages: 0\n",
      "Mixed linkages: 1752\n",
      "Total linkages: 1759\n",
      "Mixed linkage percentage (%): 99.602\n",
      "Unique known truths linked: 7\n",
      "Unique known truths missed: 54574\n",
      "Completeness (%): 0.013\n",
      "\n",
      "Total time in seconds: 12.514432668685913\n"
     ]
    }
   ],
   "source": [
    "allLinkages, allTruths, summary = difi.analyzeLinkages(observations, \n",
    "                                                       linkageMembers, \n",
    "                                                       allLinkages=None, \n",
    "                                                       allTruths=allTruths,\n",
    "                                                       summary=summary,\n",
    "                                                       minObs=4, \n",
    "                                                       contaminationThreshold=0.0, \n",
    "                                                       unknownIDs=[],\n",
    "                                                       falsePositiveIDs=[\"NS\", \"FD\"],\n",
    "                                                       verbose=True,\n",
    "                                                       columnMapping=columnMapping)"
   ]
  },
  {
   "cell_type": "markdown",
   "metadata": {},
   "source": [
    "The `analyzeLinkages` function returns three dataframes:\n",
    "- allLinkages: each linkage is summarized as its own row. \n",
    "- allTruths: each truth is summarized as its own row. \n",
    "- summary: summary statistics in a single row. \n",
    "\n",
    "Lets now take a look at each individually."
   ]
  },
  {
   "cell_type": "code",
   "execution_count": 17,
   "metadata": {},
   "outputs": [
    {
     "data": {
      "text/html": [
       "<div>\n",
       "<style scoped>\n",
       "    .dataframe tbody tr th:only-of-type {\n",
       "        vertical-align: middle;\n",
       "    }\n",
       "\n",
       "    .dataframe tbody tr th {\n",
       "        vertical-align: top;\n",
       "    }\n",
       "\n",
       "    .dataframe thead th {\n",
       "        text-align: right;\n",
       "    }\n",
       "</style>\n",
       "<table border=\"1\" class=\"dataframe\">\n",
       "  <thead>\n",
       "    <tr style=\"text-align: right;\">\n",
       "      <th></th>\n",
       "      <th>obj</th>\n",
       "      <th>time</th>\n",
       "      <th>RA</th>\n",
       "      <th>DEC</th>\n",
       "      <th>x_obs</th>\n",
       "      <th>y_obs</th>\n",
       "      <th>z_obs</th>\n",
       "      <th>night</th>\n",
       "      <th>obsId</th>\n",
       "      <th>objId</th>\n",
       "      <th>r</th>\n",
       "    </tr>\n",
       "  </thead>\n",
       "  <tbody>\n",
       "  </tbody>\n",
       "</table>\n",
       "</div>"
      ],
      "text/plain": [
       "Empty DataFrame\n",
       "Columns: [obj, time, RA, DEC, x_obs, y_obs, z_obs, night, obsId, objId, r]\n",
       "Index: []"
      ]
     },
     "execution_count": 17,
     "metadata": {},
     "output_type": "execute_result"
    }
   ],
   "source": [
    "obs = linkageMembers[linkageMembers[\"clusterId\"].isin([\"7739\"])][\"obsId\"].values\n",
    "observations[observations[\"obsId\"].isin(obs)]"
   ]
  },
  {
   "cell_type": "code",
   "execution_count": 18,
   "metadata": {},
   "outputs": [
    {
     "data": {
      "text/html": [
       "<div>\n",
       "<style scoped>\n",
       "    .dataframe tbody tr th:only-of-type {\n",
       "        vertical-align: middle;\n",
       "    }\n",
       "\n",
       "    .dataframe tbody tr th {\n",
       "        vertical-align: top;\n",
       "    }\n",
       "\n",
       "    .dataframe thead th {\n",
       "        text-align: right;\n",
       "    }\n",
       "</style>\n",
       "<table border=\"1\" class=\"dataframe\">\n",
       "  <thead>\n",
       "    <tr style=\"text-align: right;\">\n",
       "      <th></th>\n",
       "      <th>clusterId</th>\n",
       "      <th>num_members</th>\n",
       "      <th>num_obs</th>\n",
       "      <th>pure</th>\n",
       "      <th>partial</th>\n",
       "      <th>mixed</th>\n",
       "      <th>contamination</th>\n",
       "      <th>linked_truth</th>\n",
       "    </tr>\n",
       "  </thead>\n",
       "  <tbody>\n",
       "  </tbody>\n",
       "</table>\n",
       "</div>"
      ],
      "text/plain": [
       "Empty DataFrame\n",
       "Columns: [clusterId, num_members, num_obs, pure, partial, mixed, contamination, linked_truth]\n",
       "Index: []"
      ]
     },
     "execution_count": 18,
     "metadata": {},
     "output_type": "execute_result"
    }
   ],
   "source": [
    "allLinkages[allLinkages[\"num_obs\"] == 2528]"
   ]
  },
  {
   "cell_type": "markdown",
   "metadata": {},
   "source": [
    "For each linkage defined in the `linkageMembers` format, the number of unique 'truths' is counted ('num_members'), the number of unique observations in each linkage ('num_obs'), whether the linkage is 'pure', 'partial' or 'mixed', the contamination percentage (if the linkage is considered 'partial') and if the linkage is either 'pure' or 'partial' then the linked truth ('linked_truth').  \n",
    "\n",
    "Here we briefly summarize the different linkage types possible:\n",
    "- 'pure': all observations in a linkage belong to a unique truth\n",
    "- 'partial': up to a certain percentage of non-unique thruths are allowed so along as one truth has at least the minimum require number of unique observations\n",
    "- 'mixed': a linkage containing different observations belonging to different truths, we avoid using the word 'false' for these clusters as they may contain unknown truths depending on the use case. We leave interpretation up to the user. "
   ]
  },
  {
   "cell_type": "code",
   "execution_count": null,
   "metadata": {},
   "outputs": [],
   "source": [
    "allLinkages[allLinkages[\"pure\"] == 1][\"linked_truth\"]"
   ]
  },
  {
   "cell_type": "markdown",
   "metadata": {},
   "source": [
    "The allTruths dataframe shows for each truth if it has been found in either a pure or partial linkage. If found in either it sets the found column to 1. \n",
    "\n",
    "Lastly, the summary dataframe contains overall statistics on the number of truths found, the completeness (if calculable) and so on..."
   ]
  },
  {
   "cell_type": "code",
   "execution_count": null,
   "metadata": {},
   "outputs": [],
   "source": [
    "summary"
   ]
  },
  {
   "cell_type": "markdown",
   "metadata": {},
   "source": [
    "Notice that we passed the allTruths dataframe as a kwarg to the `analyzeLinkages` function, this allows the function to access the 'findable' column and calculate completeness. You do not need to pass the allTruths dataframe nor the summary dataframe to use `analyzeLinkages`. Below is an example. "
   ]
  },
  {
   "cell_type": "code",
   "execution_count": null,
   "metadata": {},
   "outputs": [],
   "source": [
    "\n",
    "allLinkages, allTruths, summary = difi.analyzeLinkages(observations, \n",
    "                                                       linkageMembers, \n",
    "                                                       allTruths=allTruths,\n",
    "                                                       minObs=6, \n",
    "                                                       contaminationThreshold=0.33, \n",
    "                                                       unknownIDs=[],\n",
    "                                                       falsePositiveIDs=[\"NS\", \"FD\"],\n",
    "                                                       verbose=True,\n",
    "                                                       columnMapping=columnMapping)"
   ]
  },
  {
   "cell_type": "code",
   "execution_count": null,
   "metadata": {},
   "outputs": [],
   "source": []
  }
 ],
 "metadata": {
  "kernelspec": {
   "display_name": "THOR (Python 3.6)",
   "language": "python",
   "name": "thor_py36"
  },
  "language_info": {
   "codemirror_mode": {
    "name": "ipython",
    "version": 3
   },
   "file_extension": ".py",
   "mimetype": "text/x-python",
   "name": "python",
   "nbconvert_exporter": "python",
   "pygments_lexer": "ipython3",
   "version": "3.6.8"
  }
 },
 "nbformat": 4,
 "nbformat_minor": 2
}
